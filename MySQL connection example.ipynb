{
 "cells": [
  {
   "cell_type": "markdown",
   "metadata": {},
   "source": [
    "# MySQL connection example\n",
    "Import the connector and assign to it the alias \"sql\"."
   ]
  },
  {
   "cell_type": "code",
   "execution_count": 1,
   "metadata": {},
   "outputs": [],
   "source": [
    "import mysql.connector as sql"
   ]
  },
  {
   "cell_type": "markdown",
   "metadata": {},
   "source": [
    "Connect to the MySQL server and create a database called \"comptools\"."
   ]
  },
  {
   "cell_type": "code",
   "execution_count": 2,
   "metadata": {},
   "outputs": [],
   "source": [
    "connection = sql.connect(host='mysql-server',\n",
    "                         user='root',\n",
    "                         password='password')\n",
    "cursor = connection.cursor()\n",
    "cursor.execute('CREATE DATABASE IF NOT EXISTS comptools')\n",
    "connection.close()"
   ]
  },
  {
   "cell_type": "markdown",
   "metadata": {},
   "source": [
    "Connect to the \"comptools\" database and create a table called \"teachers\"."
   ]
  },
  {
   "cell_type": "code",
   "execution_count": 3,
   "metadata": {},
   "outputs": [],
   "source": [
    "connection = sql.connect(host='mysql-server',\n",
    "                         user='root',\n",
    "                         password='password',\n",
    "                         database='comptools')\n",
    "cursor = connection.cursor()\n",
    "#cursor.execute('DROP TABLE teachers')\n",
    "cursor.execute('CREATE TABLE teachers (name VARCHAR(255), affiliation VARCHAR(255))')"
   ]
  },
  {
   "cell_type": "markdown",
   "metadata": {},
   "source": [
    "Insert some rows into \"teachers\"."
   ]
  },
  {
   "cell_type": "code",
   "execution_count": 4,
   "metadata": {},
   "outputs": [],
   "source": [
    "cursor.execute('INSERT INTO teachers (name, affiliation) VALUES (\"Patrick\", \"DataRobot\")')\n",
    "cursor.execute('INSERT INTO teachers (name, affiliation) VALUES (\"Carsten\", \"DTU Lyngby\")')\n",
    "cursor.execute('INSERT INTO teachers (name, affiliation) VALUES (\"Inge\", \"DTU Lyngby\")')"
   ]
  },
  {
   "cell_type": "markdown",
   "metadata": {},
   "source": [
    "Fetch the rows."
   ]
  },
  {
   "cell_type": "code",
   "execution_count": 5,
   "metadata": {},
   "outputs": [
    {
     "name": "stdout",
     "output_type": "stream",
     "text": [
      "[('Patrick', 'DataRobot'), ('Carsten', 'DTU Lyngby'), ('Inge', 'DTU Lyngby')]\n"
     ]
    }
   ],
   "source": [
    "cursor.execute('SELECT * FROM teachers')\n",
    "res = cursor.fetchall()\n",
    "print(res)"
   ]
  }
 ],
 "metadata": {
  "kernelspec": {
   "display_name": "Python 3",
   "language": "python",
   "name": "python3"
  },
  "language_info": {
   "codemirror_mode": {
    "name": "ipython",
    "version": 3
   },
   "file_extension": ".py",
   "mimetype": "text/x-python",
   "name": "python",
   "nbconvert_exporter": "python",
   "pygments_lexer": "ipython3",
   "version": "3.7.3"
  }
 },
 "nbformat": 4,
 "nbformat_minor": 2
}
