{
 "cells": [
  {
   "cell_type": "markdown",
   "metadata": {},
   "source": [
    "# Week 3 - Training a model using scikit-learn\n",
    "In this example we will train a model using scikit-learn. \n",
    "\n",
    "First we will prepare the data for scikit-learn. We will focus on\n",
    "- Replacing or removing NaNs\n",
    "- Removing columns not needed when training the model\n",
    "\n",
    "For the purpose of this example we will not do any feature engineering."
   ]
  },
  {
   "cell_type": "code",
   "execution_count": 1,
   "metadata": {},
   "outputs": [],
   "source": [
    "import pandas as pd\n",
    "import numpy as np"
   ]
  },
  {
   "cell_type": "markdown",
   "metadata": {},
   "source": [
    "## Load the data"
   ]
  },
  {
   "cell_type": "code",
   "execution_count": 2,
   "metadata": {},
   "outputs": [
    {
     "data": {
      "text/html": [
       "<div>\n",
       "<style scoped>\n",
       "    .dataframe tbody tr th:only-of-type {\n",
       "        vertical-align: middle;\n",
       "    }\n",
       "\n",
       "    .dataframe tbody tr th {\n",
       "        vertical-align: top;\n",
       "    }\n",
       "\n",
       "    .dataframe thead th {\n",
       "        text-align: right;\n",
       "    }\n",
       "</style>\n",
       "<table border=\"1\" class=\"dataframe\">\n",
       "  <thead>\n",
       "    <tr style=\"text-align: right;\">\n",
       "      <th></th>\n",
       "      <th>PassengerId</th>\n",
       "      <th>Survived</th>\n",
       "      <th>Pclass</th>\n",
       "      <th>Name</th>\n",
       "      <th>Sex</th>\n",
       "      <th>Age</th>\n",
       "      <th>SibSp</th>\n",
       "      <th>Parch</th>\n",
       "      <th>Ticket</th>\n",
       "      <th>Fare</th>\n",
       "      <th>Cabin</th>\n",
       "      <th>Embarked</th>\n",
       "    </tr>\n",
       "  </thead>\n",
       "  <tbody>\n",
       "    <tr>\n",
       "      <th>0</th>\n",
       "      <td>1</td>\n",
       "      <td>False</td>\n",
       "      <td>3</td>\n",
       "      <td>Braund, Mr. Owen Harris</td>\n",
       "      <td>male</td>\n",
       "      <td>22.0</td>\n",
       "      <td>1</td>\n",
       "      <td>0</td>\n",
       "      <td>A/5 21171</td>\n",
       "      <td>7.2500</td>\n",
       "      <td>NaN</td>\n",
       "      <td>S</td>\n",
       "    </tr>\n",
       "    <tr>\n",
       "      <th>1</th>\n",
       "      <td>2</td>\n",
       "      <td>True</td>\n",
       "      <td>1</td>\n",
       "      <td>Cumings, Mrs. John Bradley (Florence Briggs Th...</td>\n",
       "      <td>female</td>\n",
       "      <td>38.0</td>\n",
       "      <td>1</td>\n",
       "      <td>0</td>\n",
       "      <td>PC 17599</td>\n",
       "      <td>71.2833</td>\n",
       "      <td>C85</td>\n",
       "      <td>C</td>\n",
       "    </tr>\n",
       "    <tr>\n",
       "      <th>2</th>\n",
       "      <td>3</td>\n",
       "      <td>True</td>\n",
       "      <td>3</td>\n",
       "      <td>Heikkinen, Miss. Laina</td>\n",
       "      <td>female</td>\n",
       "      <td>26.0</td>\n",
       "      <td>0</td>\n",
       "      <td>0</td>\n",
       "      <td>STON/O2. 3101282</td>\n",
       "      <td>7.9250</td>\n",
       "      <td>NaN</td>\n",
       "      <td>S</td>\n",
       "    </tr>\n",
       "    <tr>\n",
       "      <th>3</th>\n",
       "      <td>4</td>\n",
       "      <td>True</td>\n",
       "      <td>1</td>\n",
       "      <td>Futrelle, Mrs. Jacques Heath (Lily May Peel)</td>\n",
       "      <td>female</td>\n",
       "      <td>35.0</td>\n",
       "      <td>1</td>\n",
       "      <td>0</td>\n",
       "      <td>113803</td>\n",
       "      <td>53.1000</td>\n",
       "      <td>C123</td>\n",
       "      <td>S</td>\n",
       "    </tr>\n",
       "    <tr>\n",
       "      <th>4</th>\n",
       "      <td>5</td>\n",
       "      <td>False</td>\n",
       "      <td>3</td>\n",
       "      <td>Allen, Mr. William Henry</td>\n",
       "      <td>male</td>\n",
       "      <td>35.0</td>\n",
       "      <td>0</td>\n",
       "      <td>0</td>\n",
       "      <td>373450</td>\n",
       "      <td>8.0500</td>\n",
       "      <td>NaN</td>\n",
       "      <td>S</td>\n",
       "    </tr>\n",
       "  </tbody>\n",
       "</table>\n",
       "</div>"
      ],
      "text/plain": [
       "   PassengerId  Survived  Pclass  \\\n",
       "0            1     False       3   \n",
       "1            2      True       1   \n",
       "2            3      True       3   \n",
       "3            4      True       1   \n",
       "4            5     False       3   \n",
       "\n",
       "                                                Name     Sex   Age  SibSp  \\\n",
       "0                            Braund, Mr. Owen Harris    male  22.0      1   \n",
       "1  Cumings, Mrs. John Bradley (Florence Briggs Th...  female  38.0      1   \n",
       "2                             Heikkinen, Miss. Laina  female  26.0      0   \n",
       "3       Futrelle, Mrs. Jacques Heath (Lily May Peel)  female  35.0      1   \n",
       "4                           Allen, Mr. William Henry    male  35.0      0   \n",
       "\n",
       "   Parch            Ticket     Fare Cabin Embarked  \n",
       "0      0         A/5 21171   7.2500   NaN        S  \n",
       "1      0          PC 17599  71.2833   C85        C  \n",
       "2      0  STON/O2. 3101282   7.9250   NaN        S  \n",
       "3      0            113803  53.1000  C123        S  \n",
       "4      0            373450   8.0500   NaN        S  "
      ]
     },
     "execution_count": 2,
     "metadata": {},
     "output_type": "execute_result"
    }
   ],
   "source": [
    "df_train = pd.read_csv(\"data/titanic.csv\", encoding='utf-8-sig')\n",
    "df_train.head(5)"
   ]
  },
  {
   "cell_type": "markdown",
   "metadata": {},
   "source": [
    "## Remove columns"
   ]
  },
  {
   "cell_type": "code",
   "execution_count": 3,
   "metadata": {},
   "outputs": [],
   "source": [
    "to_drop = ['PassengerId', 'Name', 'Cabin', 'Ticket', 'Cabin']\n",
    "df_train.drop(to_drop, inplace=True, axis=1)"
   ]
  },
  {
   "cell_type": "markdown",
   "metadata": {},
   "source": [
    "## Prepare remaining data for scikit-learn"
   ]
  },
  {
   "cell_type": "code",
   "execution_count": 4,
   "metadata": {},
   "outputs": [
    {
     "data": {
      "text/plain": [
       "Survived       bool\n",
       "Pclass        int64\n",
       "Sex          object\n",
       "Age         float64\n",
       "SibSp         int64\n",
       "Parch         int64\n",
       "Fare        float64\n",
       "Embarked     object\n",
       "dtype: object"
      ]
     },
     "execution_count": 4,
     "metadata": {},
     "output_type": "execute_result"
    }
   ],
   "source": [
    "df_train.dtypes"
   ]
  },
  {
   "cell_type": "code",
   "execution_count": 5,
   "metadata": {},
   "outputs": [],
   "source": [
    "# Replace string by integers\n",
    "df_train['Sex'] = df_train['Sex'].map({'male': 0, 'female': 1})"
   ]
  },
  {
   "cell_type": "code",
   "execution_count": 6,
   "metadata": {},
   "outputs": [],
   "source": [
    "# Replace NaNs with mean\n",
    "age_mean = int(df_train['Age'].dropna().mean())\n",
    "df_train['Age'] = df_train['Age'].fillna(age_mean)\n",
    "df_train['Age'] = df_train['Age'].astype(int)"
   ]
  },
  {
   "cell_type": "code",
   "execution_count": 7,
   "metadata": {},
   "outputs": [
    {
     "data": {
      "text/plain": [
       "array(['S', 'C', 'Q', nan], dtype=object)"
      ]
     },
     "execution_count": 7,
     "metadata": {},
     "output_type": "execute_result"
    }
   ],
   "source": [
    "df_train['Embarked'].unique()"
   ]
  },
  {
   "cell_type": "code",
   "execution_count": 8,
   "metadata": {},
   "outputs": [],
   "source": [
    "# Replace string by integers\n",
    "df_train['Embarked'] = df_train['Embarked'].fillna('Other')\n",
    "df_train['Embarked'] = df_train['Embarked'].map({'S': 0, 'C': 1, 'Q': 2, 'Other': 3})"
   ]
  },
  {
   "cell_type": "code",
   "execution_count": 9,
   "metadata": {},
   "outputs": [
    {
     "data": {
      "text/plain": [
       "Survived       bool\n",
       "Pclass        int64\n",
       "Sex           int64\n",
       "Age           int64\n",
       "SibSp         int64\n",
       "Parch         int64\n",
       "Fare        float64\n",
       "Embarked      int64\n",
       "dtype: object"
      ]
     },
     "execution_count": 9,
     "metadata": {},
     "output_type": "execute_result"
    }
   ],
   "source": [
    "df_train.dtypes"
   ]
  },
  {
   "cell_type": "code",
   "execution_count": 10,
   "metadata": {},
   "outputs": [],
   "source": [
    "# Remove rows with NaNs\n",
    "df_train.dropna(subset=['Fare'], inplace=True)"
   ]
  },
  {
   "cell_type": "code",
   "execution_count": 11,
   "metadata": {},
   "outputs": [],
   "source": [
    "df_train.to_csv('data/titanic_prepped.csv')"
   ]
  },
  {
   "cell_type": "markdown",
   "metadata": {},
   "source": [
    "## Training a model\n",
    "In this example we will train a Random Forest classifier."
   ]
  },
  {
   "cell_type": "code",
   "execution_count": 12,
   "metadata": {},
   "outputs": [],
   "source": [
    "from sklearn.ensemble import RandomForestClassifier\n",
    "from sklearn.model_selection import train_test_split\n",
    "from sklearn.metrics import accuracy_score, log_loss"
   ]
  },
  {
   "cell_type": "markdown",
   "metadata": {},
   "source": [
    "Split data into training and validation:"
   ]
  },
  {
   "cell_type": "code",
   "execution_count": 13,
   "metadata": {},
   "outputs": [],
   "source": [
    "predictors = df_train.drop(\"Survived\", axis=1)\n",
    "target = df_train[\"Survived\"]\n",
    "\n",
    "x_train, x_val, y_train, y_val = train_test_split(predictors, target, test_size = 0.20, random_state = 0)"
   ]
  },
  {
   "cell_type": "markdown",
   "metadata": {},
   "source": [
    "Train the model:"
   ]
  },
  {
   "cell_type": "code",
   "execution_count": 14,
   "metadata": {},
   "outputs": [
    {
     "data": {
      "text/plain": [
       "RandomForestClassifier(bootstrap=True, class_weight=None, criterion='gini',\n",
       "                       max_depth=None, max_features='auto', max_leaf_nodes=None,\n",
       "                       min_impurity_decrease=0.0, min_impurity_split=None,\n",
       "                       min_samples_leaf=1, min_samples_split=2,\n",
       "                       min_weight_fraction_leaf=0.0, n_estimators=100,\n",
       "                       n_jobs=None, oob_score=False, random_state=None,\n",
       "                       verbose=0, warm_start=False)"
      ]
     },
     "execution_count": 14,
     "metadata": {},
     "output_type": "execute_result"
    }
   ],
   "source": [
    "randomforest = RandomForestClassifier(n_estimators=100)\n",
    "randomforest.fit(x_train, y_train)"
   ]
  },
  {
   "cell_type": "markdown",
   "metadata": {},
   "source": [
    "## Evaluating the model\n",
    "Let's try the `score` method of the model."
   ]
  },
  {
   "cell_type": "code",
   "execution_count": 15,
   "metadata": {},
   "outputs": [
    {
     "data": {
      "text/plain": [
       "95.06"
      ]
     },
     "execution_count": 15,
     "metadata": {},
     "output_type": "execute_result"
    }
   ],
   "source": [
    "round(randomforest.score(predictors, target) * 100, 2)"
   ]
  },
  {
   "cell_type": "markdown",
   "metadata": {},
   "source": [
    "Looks too good to be true. Let's evaluate the accuracy on our training/validation split."
   ]
  },
  {
   "cell_type": "code",
   "execution_count": 16,
   "metadata": {},
   "outputs": [
    {
     "data": {
      "text/plain": [
       "84.36"
      ]
     },
     "execution_count": 16,
     "metadata": {},
     "output_type": "execute_result"
    }
   ],
   "source": [
    "y_pred = randomforest.predict(x_val)\n",
    "round(accuracy_score(y_pred, y_val) * 100, 2)"
   ]
  },
  {
   "cell_type": "markdown",
   "metadata": {},
   "source": [
    "So from doing almost nothing, we get an accuracy of 82%. \n",
    "\n",
    "A model like the Random Forest Classifier is actually computing the probabilities of a prediction being either true or false, and we have to make a decision about the threshold. So a better way of evaluating the model is to compute these probabilities and use the LogLoss metric to determine the performance of our model. "
   ]
  },
  {
   "cell_type": "code",
   "execution_count": 17,
   "metadata": {},
   "outputs": [
    {
     "data": {
      "text/plain": [
       "array([[0.72966667, 0.27033333],\n",
       "       [0.77116667, 0.22883333],\n",
       "       [0.99      , 0.01      ],\n",
       "       [0.04      , 0.96      ],\n",
       "       [0.73      , 0.27      ],\n",
       "       [0.65316667, 0.34683333],\n",
       "       [0.07      , 0.93      ],\n",
       "       [0.25      , 0.75      ],\n",
       "       [0.4       , 0.6       ],\n",
       "       [0.21541667, 0.78458333],\n",
       "       [0.84      , 0.16      ],\n",
       "       [0.495     , 0.505     ],\n",
       "       [0.79624636, 0.20375364],\n",
       "       [0.01      , 0.99      ],\n",
       "       [0.02      , 0.98      ],\n",
       "       [0.4       , 0.6       ],\n",
       "       [1.        , 0.        ],\n",
       "       [0.7       , 0.3       ],\n",
       "       [0.98      , 0.02      ],\n",
       "       [0.375     , 0.625     ],\n",
       "       [0.91738095, 0.08261905],\n",
       "       [0.1       , 0.9       ],\n",
       "       [0.96677114, 0.03322886],\n",
       "       [0.699     , 0.301     ],\n",
       "       [0.62      , 0.38      ],\n",
       "       [0.01      , 0.99      ],\n",
       "       [0.82783333, 0.17216667],\n",
       "       [0.25      , 0.75      ],\n",
       "       [0.07333333, 0.92666667],\n",
       "       [0.87      , 0.13      ],\n",
       "       [0.93      , 0.07      ],\n",
       "       [0.19      , 0.81      ],\n",
       "       [0.85816667, 0.14183333],\n",
       "       [0.81      , 0.19      ],\n",
       "       [0.99      , 0.01      ],\n",
       "       [0.79      , 0.21      ],\n",
       "       [0.96      , 0.04      ],\n",
       "       [0.99333333, 0.00666667],\n",
       "       [1.        , 0.        ],\n",
       "       [0.96      , 0.04      ],\n",
       "       [0.78      , 0.22      ],\n",
       "       [0.61      , 0.39      ],\n",
       "       [0.90683333, 0.09316667],\n",
       "       [0.98      , 0.02      ],\n",
       "       [0.        , 1.        ],\n",
       "       [1.        , 0.        ],\n",
       "       [1.        , 0.        ],\n",
       "       [0.03      , 0.97      ],\n",
       "       [0.94316667, 0.05683333],\n",
       "       [0.82      , 0.18      ],\n",
       "       [0.80316667, 0.19683333],\n",
       "       [0.81      , 0.19      ],\n",
       "       [0.03      , 0.97      ],\n",
       "       [0.93      , 0.07      ],\n",
       "       [0.82      , 0.18      ],\n",
       "       [0.95      , 0.05      ],\n",
       "       [0.96      , 0.04      ],\n",
       "       [0.97      , 0.03      ],\n",
       "       [0.98      , 0.02      ],\n",
       "       [0.91669231, 0.08330769],\n",
       "       [0.60625   , 0.39375   ],\n",
       "       [0.58      , 0.42      ],\n",
       "       [0.02      , 0.98      ],\n",
       "       [0.83      , 0.17      ],\n",
       "       [0.31      , 0.69      ],\n",
       "       [0.84867652, 0.15132348],\n",
       "       [0.02      , 0.98      ],\n",
       "       [0.84      , 0.16      ],\n",
       "       [0.1       , 0.9       ],\n",
       "       [0.02      , 0.98      ],\n",
       "       [0.1525    , 0.8475    ],\n",
       "       [0.83      , 0.17      ],\n",
       "       [0.47      , 0.53      ],\n",
       "       [1.        , 0.        ],\n",
       "       [1.        , 0.        ],\n",
       "       [0.43      , 0.57      ],\n",
       "       [0.46      , 0.54      ],\n",
       "       [0.52      , 0.48      ],\n",
       "       [0.95      , 0.05      ],\n",
       "       [0.5       , 0.5       ],\n",
       "       [0.91919231, 0.08080769],\n",
       "       [0.33      , 0.67      ],\n",
       "       [0.05      , 0.95      ],\n",
       "       [0.76933333, 0.23066667],\n",
       "       [0.955     , 0.045     ],\n",
       "       [0.00333333, 0.99666667],\n",
       "       [0.        , 1.        ],\n",
       "       [0.64      , 0.36      ],\n",
       "       [0.04      , 0.96      ],\n",
       "       [0.52      , 0.48      ],\n",
       "       [1.        , 0.        ],\n",
       "       [0.93      , 0.07      ],\n",
       "       [0.09      , 0.91      ],\n",
       "       [0.05      , 0.95      ],\n",
       "       [0.98      , 0.02      ],\n",
       "       [0.79623413, 0.20376587],\n",
       "       [0.12583333, 0.87416667],\n",
       "       [0.99      , 0.01      ],\n",
       "       [0.96      , 0.04      ],\n",
       "       [0.71      , 0.29      ],\n",
       "       [1.        , 0.        ],\n",
       "       [0.95      , 0.05      ],\n",
       "       [0.97      , 0.03      ],\n",
       "       [0.8       , 0.2       ],\n",
       "       [0.63      , 0.37      ],\n",
       "       [0.39      , 0.61      ],\n",
       "       [0.04266667, 0.95733333],\n",
       "       [0.77      , 0.23      ],\n",
       "       [0.72      , 0.28      ],\n",
       "       [0.06      , 0.94      ],\n",
       "       [0.775     , 0.225     ],\n",
       "       [0.02333333, 0.97666667],\n",
       "       [0.1395    , 0.8605    ],\n",
       "       [0.88      , 0.12      ],\n",
       "       [0.47      , 0.53      ],\n",
       "       [0.04266667, 0.95733333],\n",
       "       [0.88      , 0.12      ],\n",
       "       [0.02      , 0.98      ],\n",
       "       [0.9225    , 0.0775    ],\n",
       "       [0.28      , 0.72      ],\n",
       "       [0.4605    , 0.5395    ],\n",
       "       [0.90449632, 0.09550368],\n",
       "       [1.        , 0.        ],\n",
       "       [0.93      , 0.07      ],\n",
       "       [0.93      , 0.07      ],\n",
       "       [0.73      , 0.27      ],\n",
       "       [1.        , 0.        ],\n",
       "       [0.94      , 0.06      ],\n",
       "       [1.        , 0.        ],\n",
       "       [0.99      , 0.01      ],\n",
       "       [0.03      , 0.97      ],\n",
       "       [0.97      , 0.03      ],\n",
       "       [0.92      , 0.08      ],\n",
       "       [0.68      , 0.32      ],\n",
       "       [0.9       , 0.1       ],\n",
       "       [0.97      , 0.03      ],\n",
       "       [0.88941994, 0.11058006],\n",
       "       [0.65      , 0.35      ],\n",
       "       [0.935     , 0.065     ],\n",
       "       [1.        , 0.        ],\n",
       "       [0.91      , 0.09      ],\n",
       "       [0.08      , 0.92      ],\n",
       "       [1.        , 0.        ],\n",
       "       [0.35      , 0.65      ],\n",
       "       [0.03      , 0.97      ],\n",
       "       [0.74      , 0.26      ],\n",
       "       [0.87666667, 0.12333333],\n",
       "       [0.56      , 0.44      ],\n",
       "       [0.08      , 0.92      ],\n",
       "       [0.445     , 0.555     ],\n",
       "       [0.56      , 0.44      ],\n",
       "       [0.43      , 0.57      ],\n",
       "       [0.41      , 0.59      ],\n",
       "       [0.63233333, 0.36766667],\n",
       "       [0.08083333, 0.91916667],\n",
       "       [0.98666667, 0.01333333],\n",
       "       [0.81      , 0.19      ],\n",
       "       [0.99      , 0.01      ],\n",
       "       [0.        , 1.        ],\n",
       "       [0.09      , 0.91      ],\n",
       "       [1.        , 0.        ],\n",
       "       [0.75875   , 0.24125   ],\n",
       "       [0.04      , 0.96      ],\n",
       "       [0.68      , 0.32      ],\n",
       "       [0.71      , 0.29      ],\n",
       "       [0.96      , 0.04      ],\n",
       "       [1.        , 0.        ],\n",
       "       [0.7       , 0.3       ],\n",
       "       [0.99      , 0.01      ],\n",
       "       [0.97      , 0.03      ],\n",
       "       [0.93      , 0.07      ],\n",
       "       [0.03      , 0.97      ],\n",
       "       [0.99      , 0.01      ],\n",
       "       [0.90683333, 0.09316667],\n",
       "       [0.07875   , 0.92125   ],\n",
       "       [1.        , 0.        ],\n",
       "       [0.01      , 0.99      ],\n",
       "       [0.97      , 0.03      ],\n",
       "       [0.23      , 0.77      ]])"
      ]
     },
     "execution_count": 17,
     "metadata": {},
     "output_type": "execute_result"
    }
   ],
   "source": [
    "y_pred_proba = randomforest.predict_proba(x_val)\n",
    "y_pred_proba"
   ]
  },
  {
   "cell_type": "code",
   "execution_count": 18,
   "metadata": {},
   "outputs": [
    {
     "data": {
      "text/plain": [
       "0.5738"
      ]
     },
     "execution_count": 18,
     "metadata": {},
     "output_type": "execute_result"
    }
   ],
   "source": [
    "round(log_loss(y_val, y_pred_proba), 4)"
   ]
  }
 ],
 "metadata": {
  "kernelspec": {
   "display_name": "Python 3",
   "language": "python",
   "name": "python3"
  },
  "language_info": {
   "codemirror_mode": {
    "name": "ipython",
    "version": 3
   },
   "file_extension": ".py",
   "mimetype": "text/x-python",
   "name": "python",
   "nbconvert_exporter": "python",
   "pygments_lexer": "ipython3",
   "version": "3.7.3"
  }
 },
 "nbformat": 4,
 "nbformat_minor": 2
}
