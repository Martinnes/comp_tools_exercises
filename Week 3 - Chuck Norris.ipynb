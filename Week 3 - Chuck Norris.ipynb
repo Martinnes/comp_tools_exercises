{
 "cells": [
  {
   "cell_type": "code",
   "execution_count": 1,
   "metadata": {},
   "outputs": [],
   "source": [
    "import requests"
   ]
  },
  {
   "cell_type": "markdown",
   "metadata": {},
   "source": [
    "# Getting a random Chuck Norris joke"
   ]
  },
  {
   "cell_type": "code",
   "execution_count": 2,
   "metadata": {},
   "outputs": [],
   "source": [
    "r = requests.get('https://api.chucknorris.io/jokes/random')"
   ]
  },
  {
   "cell_type": "code",
   "execution_count": 3,
   "metadata": {},
   "outputs": [
    {
     "name": "stdout",
     "output_type": "stream",
     "text": [
      "<Response [200]>\n"
     ]
    }
   ],
   "source": [
    "print(r)"
   ]
  },
  {
   "cell_type": "code",
   "execution_count": 4,
   "metadata": {},
   "outputs": [
    {
     "data": {
      "text/plain": [
       "'{\"categories\":[],\"created_at\":\"2016-05-01 10:51:41.584544\",\"icon_url\":\"https://assets.chucknorris.host/img/avatar/chuck-norris.png\",\"id\":\"YaCDcPSaSliX9npx-19a7A\",\"updated_at\":\"2016-05-01 10:51:41.584544\",\"url\":\"https://api.chucknorris.io/jokes/YaCDcPSaSliX9npx-19a7A\",\"value\":\"Chuck Norris craps gold.\"}'"
      ]
     },
     "execution_count": 4,
     "metadata": {},
     "output_type": "execute_result"
    }
   ],
   "source": [
    "r.text"
   ]
  },
  {
   "cell_type": "code",
   "execution_count": 5,
   "metadata": {},
   "outputs": [],
   "source": [
    "json_response = r.json()\n",
    "joke = json_response['value']"
   ]
  },
  {
   "cell_type": "code",
   "execution_count": 6,
   "metadata": {},
   "outputs": [
    {
     "name": "stdout",
     "output_type": "stream",
     "text": [
      "Chuck Norris craps gold.\n"
     ]
    }
   ],
   "source": [
    "print(joke)"
   ]
  },
  {
   "cell_type": "markdown",
   "metadata": {},
   "source": [
    "# Printing all quotes from a search"
   ]
  },
  {
   "cell_type": "code",
   "execution_count": 7,
   "metadata": {},
   "outputs": [],
   "source": [
    "params = {'query': 'van damme'}\n",
    "r = requests.get('https://api.chucknorris.io/jokes/search', params=params)\n",
    "json_response = r.json()"
   ]
  },
  {
   "cell_type": "code",
   "execution_count": 8,
   "metadata": {},
   "outputs": [],
   "source": [
    "results = json_response['result']\n",
    "jokes = map(lambda res: res['value'], results)"
   ]
  },
  {
   "cell_type": "code",
   "execution_count": 9,
   "metadata": {},
   "outputs": [
    {
     "name": "stdout",
     "output_type": "stream",
     "text": [
      "Diamonds are not, despite popular belief, carbon. They are, in fact, Chuck Norris fecal matter. This was proven a recently, when scientific analysis revealed what appeared to be Jean-Claude Van Damme bone fragments inside the Hope Diamond.\n",
      "----\n",
      "Jean-Claude Van Damme once kicked Chuck Norris' ass. He was then awakened from his dream by a roundhouse kick to the face.\n",
      "----\n",
      "Sudden Death is:  a. a crappy movie starring an even crappier Jean Claude Van Damme b. the way playoff overtimes are decided in the NHL c. what happens to you when you piss off Chuck Norris d. all of the above\n",
      "----\n",
      "Chuck Norris can understand Van Damme.\n",
      "----\n",
      "Jean-Claude Van Damme once attempted to throw a Chuck Norris Roundhouse Kick. He was immediately arrested for fraud.\n",
      "----\n",
      "Chuck Norris once punched Jean-Claude Van Damme in his career.\n",
      "----\n",
      "CHUCK NORRIS ONCE DONE THE SPLITS ON 2 VAN DAMMES\n",
      "----\n",
      "Chuck Norris has five children whose names are: - Van Damme - Arnold Schwarzenegger - Clint Eastwood - Steven Seagal - Joe Pesci\n",
      "----\n",
      "Scientists created Arnold Schwarzenegger, Sly Stallone, Jean-Claude Van Damme, Vin Diesel, and Hulk Hogan by using urine samples from a toilet Chuck Norris once pissed in.\n",
      "----\n"
     ]
    }
   ],
   "source": [
    "for joke in jokes:\n",
    "    print(joke)\n",
    "    print('----')"
   ]
  }
 ],
 "metadata": {
  "kernelspec": {
   "display_name": "Python 3",
   "language": "python",
   "name": "python3"
  },
  "language_info": {
   "codemirror_mode": {
    "name": "ipython",
    "version": 3
   },
   "file_extension": ".py",
   "mimetype": "text/x-python",
   "name": "python",
   "nbconvert_exporter": "python",
   "pygments_lexer": "ipython3",
   "version": "3.7.3"
  }
 },
 "nbformat": 4,
 "nbformat_minor": 2
}
